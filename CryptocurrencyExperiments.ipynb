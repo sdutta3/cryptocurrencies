{
 "cells": [
  {
   "cell_type": "code",
   "execution_count": null,
   "metadata": {
    "collapsed": true
   },
   "outputs": [],
   "source": [
    "# List of experiments with hypotheses to test with cryptocurrency datasets\n",
    "# 1. Does the trend of the $ value of 1 Bitcoin follow the $ value of Ethereum over time?\n",
    "# 2. Does the variance of $/Bitcoin over time correlate with the $/Ethereum over time?\n",
    "# 3. Can the value of $/Ethereum be predicted with the value of $/Bitcoin?\n",
    "# Other ideas from the Internet:\n",
    "# 1. Compare both Bitcoin and Ethereum data sources in one analysis by adding both data sources to one kernel?\n",
    "# 2. Experiment with trading strategies."
   ]
  }
 ],
 "metadata": {
  "kernelspec": {
   "display_name": "Python 3",
   "language": "python",
   "name": "python3"
  },
  "language_info": {
   "codemirror_mode": {
    "name": "ipython",
    "version": 3
   },
   "file_extension": ".py",
   "mimetype": "text/x-python",
   "name": "python",
   "nbconvert_exporter": "python",
   "pygments_lexer": "ipython3",
   "version": "3.7.1"
  }
 },
 "nbformat": 4,
 "nbformat_minor": 2
}
