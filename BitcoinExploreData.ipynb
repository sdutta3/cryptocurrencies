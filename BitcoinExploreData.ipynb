{
 "cells": [
  {
   "cell_type": "code",
   "execution_count": 1,
   "metadata": {
    "collapsed": true
   },
   "outputs": [],
   "source": [
    "import numpy as np\n",
    "import pandas as pd\n",
    "import matplotlib.pyplot as plt"
   ]
  },
  {
   "cell_type": "code",
   "execution_count": null,
   "metadata": {
    "collapsed": true
   },
   "outputs": [],
   "source": [
    "from sklearn.linear_model import LogisticRegression\n",
    "from sklearn.cross_validation import train_test_split\n",
    "from sklearn import metrics"
   ]
  },
  {
   "cell_type": "code",
   "execution_count": 2,
   "metadata": {
    "collapsed": true
   },
   "outputs": [],
   "source": [
    "def load_data(subfolder = 'bitcoin', dataset = 'bitflyerJPY_1-min_data_2017-07-04_to_2018-06-27.csv'):\n",
    "    data_path = '../../../Documents/DataScience/datasets/'\n",
    "    return pd.read_csv(data_path + subfolder + '/' + dataset)"
   ]
  },
  {
   "cell_type": "code",
   "execution_count": 5,
   "metadata": {},
   "outputs": [],
   "source": [
    "bc = load_data()"
   ]
  },
  {
   "cell_type": "code",
   "execution_count": 6,
   "metadata": {},
   "outputs": [
    {
     "data": {
      "text/html": [
       "<div>\n",
       "<style>\n",
       "    .dataframe thead tr:only-child th {\n",
       "        text-align: right;\n",
       "    }\n",
       "\n",
       "    .dataframe thead th {\n",
       "        text-align: left;\n",
       "    }\n",
       "\n",
       "    .dataframe tbody tr th {\n",
       "        vertical-align: top;\n",
       "    }\n",
       "</style>\n",
       "<table border=\"1\" class=\"dataframe\">\n",
       "  <thead>\n",
       "    <tr style=\"text-align: right;\">\n",
       "      <th></th>\n",
       "      <th>Timestamp</th>\n",
       "      <th>Open</th>\n",
       "      <th>High</th>\n",
       "      <th>Low</th>\n",
       "      <th>Close</th>\n",
       "      <th>Volume_(BTC)</th>\n",
       "      <th>Volume_(Currency)</th>\n",
       "      <th>Weighted_Price</th>\n",
       "    </tr>\n",
       "  </thead>\n",
       "  <tbody>\n",
       "    <tr>\n",
       "      <th>count</th>\n",
       "      <td>5.115750e+05</td>\n",
       "      <td>5.115750e+05</td>\n",
       "      <td>5.115750e+05</td>\n",
       "      <td>5.115750e+05</td>\n",
       "      <td>5.115750e+05</td>\n",
       "      <td>5.115750e+05</td>\n",
       "      <td>5.115750e+05</td>\n",
       "      <td>5.115750e+05</td>\n",
       "    </tr>\n",
       "    <tr>\n",
       "      <th>mean</th>\n",
       "      <td>1.514637e+09</td>\n",
       "      <td>8.755354e+05</td>\n",
       "      <td>8.763318e+05</td>\n",
       "      <td>8.747205e+05</td>\n",
       "      <td>8.755351e+05</td>\n",
       "      <td>1.291305e+01</td>\n",
       "      <td>1.163441e+07</td>\n",
       "      <td>8.755078e+05</td>\n",
       "    </tr>\n",
       "    <tr>\n",
       "      <th>std</th>\n",
       "      <td>8.942935e+06</td>\n",
       "      <td>4.400117e+05</td>\n",
       "      <td>4.406000e+05</td>\n",
       "      <td>4.394105e+05</td>\n",
       "      <td>4.400085e+05</td>\n",
       "      <td>1.645553e+01</td>\n",
       "      <td>1.696385e+07</td>\n",
       "      <td>4.399933e+05</td>\n",
       "    </tr>\n",
       "    <tr>\n",
       "      <th>min</th>\n",
       "      <td>1.499155e+09</td>\n",
       "      <td>2.062910e+05</td>\n",
       "      <td>2.064800e+05</td>\n",
       "      <td>2.060000e+05</td>\n",
       "      <td>2.063460e+05</td>\n",
       "      <td>3.400000e-07</td>\n",
       "      <td>9.952650e-02</td>\n",
       "      <td>2.063754e+05</td>\n",
       "    </tr>\n",
       "    <tr>\n",
       "      <th>25%</th>\n",
       "      <td>1.506829e+09</td>\n",
       "      <td>5.000010e+05</td>\n",
       "      <td>5.002700e+05</td>\n",
       "      <td>4.999695e+05</td>\n",
       "      <td>5.000000e+05</td>\n",
       "      <td>3.138781e+00</td>\n",
       "      <td>2.154393e+06</td>\n",
       "      <td>5.000253e+05</td>\n",
       "    </tr>\n",
       "    <tr>\n",
       "      <th>50%</th>\n",
       "      <td>1.514710e+09</td>\n",
       "      <td>8.368760e+05</td>\n",
       "      <td>8.374200e+05</td>\n",
       "      <td>8.363910e+05</td>\n",
       "      <td>8.369620e+05</td>\n",
       "      <td>7.603064e+00</td>\n",
       "      <td>5.895066e+06</td>\n",
       "      <td>8.368372e+05</td>\n",
       "    </tr>\n",
       "    <tr>\n",
       "      <th>75%</th>\n",
       "      <td>1.522384e+09</td>\n",
       "      <td>1.044120e+06</td>\n",
       "      <td>1.045203e+06</td>\n",
       "      <td>1.043111e+06</td>\n",
       "      <td>1.044130e+06</td>\n",
       "      <td>1.626606e+01</td>\n",
       "      <td>1.416836e+07</td>\n",
       "      <td>1.044122e+06</td>\n",
       "    </tr>\n",
       "    <tr>\n",
       "      <th>max</th>\n",
       "      <td>1.530058e+09</td>\n",
       "      <td>2.312098e+06</td>\n",
       "      <td>2.312100e+06</td>\n",
       "      <td>2.300290e+06</td>\n",
       "      <td>2.312098e+06</td>\n",
       "      <td>7.574348e+02</td>\n",
       "      <td>6.936638e+08</td>\n",
       "      <td>2.311319e+06</td>\n",
       "    </tr>\n",
       "  </tbody>\n",
       "</table>\n",
       "</div>"
      ],
      "text/plain": [
       "          Timestamp          Open          High           Low         Close  \\\n",
       "count  5.115750e+05  5.115750e+05  5.115750e+05  5.115750e+05  5.115750e+05   \n",
       "mean   1.514637e+09  8.755354e+05  8.763318e+05  8.747205e+05  8.755351e+05   \n",
       "std    8.942935e+06  4.400117e+05  4.406000e+05  4.394105e+05  4.400085e+05   \n",
       "min    1.499155e+09  2.062910e+05  2.064800e+05  2.060000e+05  2.063460e+05   \n",
       "25%    1.506829e+09  5.000010e+05  5.002700e+05  4.999695e+05  5.000000e+05   \n",
       "50%    1.514710e+09  8.368760e+05  8.374200e+05  8.363910e+05  8.369620e+05   \n",
       "75%    1.522384e+09  1.044120e+06  1.045203e+06  1.043111e+06  1.044130e+06   \n",
       "max    1.530058e+09  2.312098e+06  2.312100e+06  2.300290e+06  2.312098e+06   \n",
       "\n",
       "       Volume_(BTC)  Volume_(Currency)  Weighted_Price  \n",
       "count  5.115750e+05       5.115750e+05    5.115750e+05  \n",
       "mean   1.291305e+01       1.163441e+07    8.755078e+05  \n",
       "std    1.645553e+01       1.696385e+07    4.399933e+05  \n",
       "min    3.400000e-07       9.952650e-02    2.063754e+05  \n",
       "25%    3.138781e+00       2.154393e+06    5.000253e+05  \n",
       "50%    7.603064e+00       5.895066e+06    8.368372e+05  \n",
       "75%    1.626606e+01       1.416836e+07    1.044122e+06  \n",
       "max    7.574348e+02       6.936638e+08    2.311319e+06  "
      ]
     },
     "execution_count": 6,
     "metadata": {},
     "output_type": "execute_result"
    }
   ],
   "source": [
    "bc.describe()"
   ]
  },
  {
   "cell_type": "code",
   "execution_count": 9,
   "metadata": {},
   "outputs": [
    {
     "data": {
      "image/png": "[encoded data removed]",
      "text/plain": [
       "<matplotlib.figure.Figure at 0x15edb0eae48>"
      ]
     },
     "metadata": {},
     "output_type": "display_data"
    }
   ],
   "source": [
    "x = bc['Timestamp']\n",
    "y = bc['Weighted_Price']\n",
    "plt.plot(x,y)\n",
    "plt.xlabel('Time')\n",
    "plt.ylabel('Price')\n",
    "plt.show()"
   ]
  }
 ],
 "metadata": {
  "kernelspec": {
   "display_name": "Python 3",
   "language": "python",
   "name": "python3"
  },
  "language_info": {
   "codemirror_mode": {
    "name": "ipython",
    "version": 3
   },
   "file_extension": ".py",
   "mimetype": "text/x-python",
   "name": "python",
   "nbconvert_exporter": "python",
   "pygments_lexer": "ipython3",
   "version": "3.6.1"
  }
 },
 "nbformat": 4,
 "nbformat_minor": 2
}
